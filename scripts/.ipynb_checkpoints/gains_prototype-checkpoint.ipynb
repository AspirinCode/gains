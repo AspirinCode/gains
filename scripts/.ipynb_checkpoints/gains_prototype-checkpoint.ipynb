{
 "cells": [
  {
   "cell_type": "code",
   "execution_count": 1,
   "metadata": {
    "collapsed": true
   },
   "outputs": [],
   "source": [
    "import gains as genetic\n",
    "import pandas as pd\n",
    "import rdkit\n",
    "import pickle\n",
    "from rdkit.Chem import Draw\n",
    "from rdkit import RDConfig\n",
    "from rdkit.Chem import FragmentCatalog\n",
    "from rdkit import RDConfig\n",
    "from rdkit import DataStructs\n",
    "from rdkit.Chem.Fingerprints import FingerprintMols\n",
    "from rdkit import Chem\n",
    "from rdkit.Chem import AllChem as Chem\n",
    "from rdkit.Chem.Draw import ShowMol\n",
    "import random\n",
    "import unittest\n",
    "import datetime"
   ]
  },
  {
   "cell_type": "code",
   "execution_count": 2,
   "metadata": {},
   "outputs": [
    {
     "name": "stdout",
     "output_type": "stream",
     "text": [
      "0.6923076923076923\n",
      "CCCCN1C=C[N+](=C1C)C\t0.6923076923076923\tstarting structure\t0:00:00.006067\n",
      "CCCCn1cc[n+](C)c1\t0.9436619718309859\tremove_atom\t0:00:00.089721\n",
      "CCCCCCCn1cc[n+](C)c1\t0.9878787878787879\tadd_custom_fragment\t0:00:00.188353\n",
      "CCCCCCn1cc[n+](C)c1\t1.0\tremove_atom\t0:00:00.537671\n",
      "number of atoms: \t12\n",
      "mutation attempts: \t283\n"
     ]
    },
    {
     "data": {
      "image/png": "[encoded data removed]",
      "text/plain": [
       "<matplotlib.figure.Figure at 0x7f818a0c91d0>"
      ]
     },
     "execution_count": 2,
     "metadata": {},
     "output_type": "execute_result"
    }
   ],
   "source": [
    "def guess_password(target):\n",
    "    startTime = datetime.datetime.now()\n",
    "\n",
    "    def fnGetFitness(genes):\n",
    "        return get_fitness(genes, target)\n",
    "\n",
    "    def fnDisplay(candidate, mutation):\n",
    "        display(candidate, mutation, startTime)\n",
    "\n",
    "    def fnShowIon(mutation_attempts):\n",
    "        show_ion(target, mutation_attempts)\n",
    "\n",
    "    optimalFitness = get_fitness(target, target)\n",
    "    best = genetic.get_best(fnGetFitness,\\\n",
    "        optimalFitness, geneSet, fnDisplay,\\\n",
    "                    fnShowIon, target)\n",
    "    \n",
    "def display(candidate, mutation, startTime):\n",
    "    timeDiff = datetime.datetime.now() - startTime\n",
    "    print(\"{}\\t{}\\t{}\\t{}\".format(\n",
    "    candidate.Genes, candidate.Fitness, mutation, timeDiff))\n",
    "    \n",
    "def get_fitness(genes, target):\n",
    "    ms = [Chem.MolFromSmiles(target), Chem.MolFromSmiles(genes)]\n",
    "    fps = [FingerprintMols.FingerprintMol(x) for x in ms]\n",
    "    return DataStructs.FingerprintSimilarity(fps[0],fps[1])\n",
    "\n",
    "def show_ion(target, mutation_attempts):\n",
    "    mol = Chem.MolFromSmiles(target)\n",
    "    print(\"{}\\t{}\".format(\"number of atoms: \", mol.GetNumAtoms()))\n",
    "    print(\"{}\\t{}\".format(\"mutation attempts: \", mutation_attempts))\n",
    "    \n",
    "\n",
    "geneSet = genetic.generate_geneset()\n",
    "df = genetic.load_data(\"saltInfo.csv\")\n",
    "df = df.loc[df[\"cation_name\"].str.contains(\"imid\", case=False)]\n",
    "df = df['cation_SMILES'].unique()\n",
    "ohPickMe = random.sample(range(df.shape[0]),1)\n",
    "target = df[ohPickMe[0]]\n",
    "guess_password(target)\n",
    "Draw.MolToMPL(Chem.MolFromSmiles(target))"
   ]
  },
  {
   "cell_type": "code",
   "execution_count": 35,
   "metadata": {
    "collapsed": true
   },
   "outputs": [],
   "source": [
    "from os.path import join, abspath\n",
    "def load_data(data_file_name, pickleFile=False, simpleList=False):\n",
    "    \"\"\"Loads data from module_path/data/data_file_name.\n",
    "    Parameters\n",
    "    ----------\n",
    "    data_file_name : String. Name of csv file to be loaded from\n",
    "    module_path/data/data_file_name. For example 'salt_info.csv'.\n",
    "    Returns\n",
    "    -------\n",
    "    data : Pandas DataFrame\n",
    "        A data frame. For example with each row representing one \n",
    "        salt and each column representing the features of a given \n",
    "        salt.\n",
    "    \"\"\"\n",
    "    module_path = abspath(join('../gains/'))\n",
    "    if pickleFile:\n",
    "        with open(join(module_path, 'data', data_file_name), 'rb') as pickle_file:\n",
    "            data = pickle.load(pickle_file, encoding='latin1')\n",
    "    elif simpleList:\n",
    "        with open(join(module_path, 'data', data_file_name)) as csv_file:\n",
    "            data = csv_file.read().splitlines()\n",
    "    else:\n",
    "        with open(join(module_path, 'data', data_file_name)) as csv_file:\n",
    "            data = pd.read_csv(csv_file)\n",
    "    return data"
   ]
  },
  {
   "cell_type": "code",
   "execution_count": 126,
   "metadata": {
    "collapsed": true
   },
   "outputs": [],
   "source": [
    "#imports\n",
    "import numpy as np\n",
    "from rdkit.ML.Descriptors.MoleculeDescriptors import\\\n",
    "    MolecularDescriptorCalculator as calculator\n",
    "    \n",
    "#Load the pickled NN model and associated descriptors\n",
    "model = load_data(\"density_nn_model.sav\", pickleFile=True)\n",
    "deslist = load_data(\"density_nn_model_descriptors\", simpleList=True)\n",
    "\n",
    "#Load rdkit descriptor calculator, set exp conditions, choose\n",
    "#a cation/anion\n",
    "cation = Chem.MolFromSmiles(\"CCCCN1C=C[N+](=C1C)C\")\n",
    "anion = Chem.MolFromSmiles(\"[B-](F)(F)(F)F\")\n",
    "Temperature = 298\n",
    "Pressure = 0.1"
   ]
  },
  {
   "cell_type": "code",
   "execution_count": 130,
   "metadata": {},
   "outputs": [
    {
     "data": {
      "text/plain": [
       "array([ 6.80587844])"
      ]
     },
     "execution_count": 130,
     "metadata": {},
     "output_type": "execute_result"
    }
   ],
   "source": [
    "#recreate the feature vector for the salt\n",
    "feature_vector=[]\n",
    "for item in deslist:\n",
    "    if \"anion\" in item:        \n",
    "        feature_vector.append(calculator([item.partition('-')[0]]).CalcDescriptors(anion)[0])\n",
    "    elif \"cation\" in item:\n",
    "        feature_vector.append(calculator([item.partition('-')[0]]).CalcDescriptors(cation)[0])\n",
    "    elif \"Temperature_K\" in item:\n",
    "        feature_vector.append(Temperature)\n",
    "    elif \"Pressure_kPa\" in item:\n",
    "        feature_vector.append(Pressure)\n",
    "    else:\n",
    "        print(\"unknown descriptor in list: %s\" % item)\n",
    "        \n",
    "#predict with model\n",
    "model.predict(np.array(feature_vector).reshape(1,-1))"
   ]
  },
  {
   "cell_type": "code",
   "execution_count": 3,
   "metadata": {
    "collapsed": true
   },
   "outputs": [],
   "source": [
    "model = pickle.load()\n",
    "def get_fitness(genes, target):\n",
    "    ms = [Chem.MolFromSmiles(target), Chem.MolFromSmiles(genes)]\n",
    "    fps = [FingerprintMols.FingerprintMol(x) for x in ms]\n",
    "    return DataStructs.FingerprintSimilarity(fps[0],fps[1])"
   ]
  }
 ],
 "metadata": {
  "kernelspec": {
   "display_name": "Python 3",
   "language": "python",
   "name": "python3"
  },
  "language_info": {
   "codemirror_mode": {
    "name": "ipython",
    "version": 3
   },
   "file_extension": ".py",
   "mimetype": "text/x-python",
   "name": "python",
   "nbconvert_exporter": "python",
   "pygments_lexer": "ipython3",
   "version": "3.6.1"
  }
 },
 "nbformat": 4,
 "nbformat_minor": 1
}
