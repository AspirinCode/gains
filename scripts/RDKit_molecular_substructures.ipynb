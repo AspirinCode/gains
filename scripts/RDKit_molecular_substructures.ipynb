{
 "cells": [
  {
   "cell_type": "code",
   "execution_count": 1,
   "metadata": {},
   "outputs": [],
   "source": [
    "import gains as genetic\n",
    "import pandas as pd\n",
    "import rdkit\n",
    "from rdkit.Chem import Draw\n",
    "from rdkit import RDConfig\n",
    "from rdkit.Chem import FragmentCatalog\n",
    "from rdkit import RDConfig\n",
    "from rdkit import DataStructs\n",
    "from rdkit.Chem.Fingerprints import FingerprintMols\n",
    "from rdkit import Chem\n",
    "from rdkit.Chem import AllChem as Chem\n",
    "from rdkit.Chem.Draw import ShowMol\n",
    "import random\n",
    "import unittest\n",
    "import datetime"
   ]
  },
  {
   "cell_type": "code",
   "execution_count": 2,
   "metadata": {},
   "outputs": [
    {
     "name": "stdout",
     "output_type": "stream",
     "text": [
      "0.6835443037974683\n",
      "CCN1C=C[N+](=C1)C\t0.6835443037974683\tstarting structure\t0:00:00.006571\n",
      "Cn1cc[n+](C)c1\t1.0\tremove_atom\t0:00:00.020939\n",
      "number of atoms: \t7\n",
      "mutation attempts: \t8\n"
     ]
    },
    {
     "data": {
      "image/png": "[encoded data removed]",
      "text/plain": [
       "<matplotlib.figure.Figure at 0x7f7e37157048>"
      ]
     },
     "execution_count": 2,
     "metadata": {},
     "output_type": "execute_result"
    }
   ],
   "source": [
    "def guess_password(target):\n",
    "    startTime = datetime.datetime.now()\n",
    "\n",
    "    def fnGetFitness(genes):\n",
    "        return get_fitness(genes, target)\n",
    "\n",
    "    def fnDisplay(candidate, mutation):\n",
    "        display(candidate, mutation, startTime)\n",
    "\n",
    "    def fnShowIon(mutation_attempts):\n",
    "        show_ion(target, mutation_attempts)\n",
    "\n",
    "    optimalFitness = get_fitness(target, target)\n",
    "    best = genetic.get_best(fnGetFitness,\\\n",
    "        optimalFitness, geneSet, fnDisplay,\\\n",
    "                    fnShowIon, target)\n",
    "    \n",
    "def display(candidate, mutation, startTime):\n",
    "    timeDiff = datetime.datetime.now() - startTime\n",
    "    print(\"{}\\t{}\\t{}\\t{}\".format(\n",
    "    candidate.Genes, candidate.Fitness, mutation, timeDiff))\n",
    "    \n",
    "def get_fitness(genes, target):\n",
    "    ms = [Chem.MolFromSmiles(target), Chem.MolFromSmiles(genes)]\n",
    "    fps = [FingerprintMols.FingerprintMol(x) for x in ms]\n",
    "    return DataStructs.FingerprintSimilarity(fps[0],fps[1])\n",
    "\n",
    "def show_ion(target, mutation_attempts):\n",
    "    mol = Chem.MolFromSmiles(target)\n",
    "    print(\"{}\\t{}\".format(\"number of atoms: \", mol.GetNumAtoms()))\n",
    "    print(\"{}\\t{}\".format(\"mutation attempts: \", mutation_attempts))\n",
    "    \n",
    "\n",
    "geneSet = genetic.generate_geneset()\n",
    "df = genetic.load_data(\"saltInfo.csv\")\n",
    "df = df.loc[df[\"cation_name\"].str.contains(\"imid\", case=False)]\n",
    "df = df['cation_SMILES'].unique()\n",
    "ohPickMe = random.sample(range(df.shape[0]),1)\n",
    "target = df[ohPickMe[0]]\n",
    "guess_password(target)\n",
    "Draw.MolToMPL(Chem.MolFromSmiles(target))"
   ]
  },
  {
   "cell_type": "code",
   "execution_count": 3,
   "metadata": {
    "collapsed": true
   },
   "outputs": [],
   "source": [
    "model = \n",
    "def get_fitness(genes, target):\n",
    "    ms = [Chem.MolFromSmiles(target), Chem.MolFromSmiles(genes)]\n",
    "    fps = [FingerprintMols.FingerprintMol(x) for x in ms]\n",
    "    return DataStructs.FingerprintSimilarity(fps[0],fps[1])"
   ]
  }
 ],
 "metadata": {
  "kernelspec": {
   "display_name": "Python 3",
   "language": "python",
   "name": "python3"
  },
  "language_info": {
   "codemirror_mode": {
    "name": "ipython",
    "version": 3
   },
   "file_extension": ".py",
   "mimetype": "text/x-python",
   "name": "python",
   "nbconvert_exporter": "python",
   "pygments_lexer": "ipython3",
   "version": "3.6.1"
  }
 },
 "nbformat": 4,
 "nbformat_minor": 1
}
