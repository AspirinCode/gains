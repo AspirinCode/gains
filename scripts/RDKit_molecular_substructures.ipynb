{
 "cells": [
  {
   "cell_type": "code",
   "execution_count": 1,
   "metadata": {},
   "outputs": [],
   "source": [
    "import gains as genetic\n",
    "import pandas as pd\n",
    "import rdkit\n",
    "import pickle\n",
    "from rdkit.Chem import Draw\n",
    "from rdkit import RDConfig\n",
    "from rdkit.Chem import FragmentCatalog\n",
    "from rdkit import RDConfig\n",
    "from rdkit import DataStructs\n",
    "from rdkit.Chem.Fingerprints import FingerprintMols\n",
    "from rdkit import Chem\n",
    "from rdkit.Chem import AllChem as Chem\n",
    "from rdkit.Chem.Draw import ShowMol\n",
    "import random\n",
    "import unittest\n",
    "import datetime"
   ]
  },
  {
   "cell_type": "code",
   "execution_count": 3,
   "metadata": {},
   "outputs": [
    {
     "name": "stdout",
     "output_type": "stream",
     "text": [
      "0.6098654708520179\n",
      "CCCCCCCCN1C=C[N+](=C1)C\t0.6098654708520179\tstarting structure\t0:00:00.005290\n",
      "CCCCCCCCn1cc[n+](C)c1CCCC\t0.6678200692041523\tadd_custom_fragment\t0:00:00.014295\n",
      "CCCCCCCn1cc[n+](C)c1CCCC\t0.6701388888888888\tremove_atom\t0:00:00.259591\n",
      "CCCCCCn1cc[n+](C)c1CCCC\t0.6724738675958188\tremove_atom\t0:00:00.292061\n",
      "CCCCCn1cc[n+](C)c1CCCC\t0.6771929824561403\tremove_atom\t0:00:00.527082\n",
      "CCCCCn1cc[n+](C)c1CCC\t0.6942446043165468\tremove_atom\t0:00:00.719264\n",
      "CCCCn1cc[n+](C)c1CCC\t0.7174721189591078\tremove_atom\t0:00:00.757970\n",
      "CCCCn1cc[n+](C)c1CC\t0.7628458498023716\tremove_atom\t0:00:00.808428\n",
      "CCCCn1cc[n+](C)c1C\t0.9146919431279621\tremove_atom\t0:00:00.916241\n",
      "CCCn1cc[n+](C)c1C\t1.0\tremove_atom\t0:00:01.006102\n",
      "number of atoms: \t10\n",
      "mutation attempts: \t541\n"
     ]
    },
    {
     "data": {
      "image/png": "[encoded data removed]",
      "text/plain": [
       "<matplotlib.figure.Figure at 0x7f8e66a5f898>"
      ]
     },
     "execution_count": 3,
     "metadata": {},
     "output_type": "execute_result"
    }
   ],
   "source": [
    "def guess_password(target):\n",
    "    startTime = datetime.datetime.now()\n",
    "\n",
    "    def fnGetFitness(genes):\n",
    "        return get_fitness(genes, target)\n",
    "\n",
    "    def fnDisplay(candidate, mutation):\n",
    "        display(candidate, mutation, startTime)\n",
    "\n",
    "    def fnShowIon(mutation_attempts):\n",
    "        show_ion(target, mutation_attempts)\n",
    "\n",
    "    optimalFitness = get_fitness(target, target)\n",
    "    best = genetic.get_best(fnGetFitness,\\\n",
    "        optimalFitness, geneSet, fnDisplay,\\\n",
    "                    fnShowIon, target)\n",
    "    \n",
    "def display(candidate, mutation, startTime):\n",
    "    timeDiff = datetime.datetime.now() - startTime\n",
    "    print(\"{}\\t{}\\t{}\\t{}\".format(\n",
    "    candidate.Genes, candidate.Fitness, mutation, timeDiff))\n",
    "    \n",
    "def get_fitness(genes, target):\n",
    "    ms = [Chem.MolFromSmiles(target), Chem.MolFromSmiles(genes)]\n",
    "    fps = [FingerprintMols.FingerprintMol(x) for x in ms]\n",
    "    return DataStructs.FingerprintSimilarity(fps[0],fps[1])\n",
    "\n",
    "def show_ion(target, mutation_attempts):\n",
    "    mol = Chem.MolFromSmiles(target)\n",
    "    print(\"{}\\t{}\".format(\"number of atoms: \", mol.GetNumAtoms()))\n",
    "    print(\"{}\\t{}\".format(\"mutation attempts: \", mutation_attempts))\n",
    "    \n",
    "\n",
    "geneSet = genetic.generate_geneset()\n",
    "df = genetic.load_data(\"saltInfo.csv\")\n",
    "df = df.loc[df[\"cation_name\"].str.contains(\"imid\", case=False)]\n",
    "df = df['cation_SMILES'].unique()\n",
    "ohPickMe = random.sample(range(df.shape[0]),1)\n",
    "target = df[ohPickMe[0]]\n",
    "guess_password(target)\n",
    "Draw.MolToMPL(Chem.MolFromSmiles(target))"
   ]
  },
  {
   "cell_type": "code",
   "execution_count": 26,
   "metadata": {},
   "outputs": [
    {
     "name": "stderr",
     "output_type": "stream",
     "text": [
      "/home/wesley/anaconda3/envs/py36/lib/python3.6/site-packages/sklearn/base.py:311: UserWarning: Trying to unpickle estimator MLPRegressor from version 0.18.1 when using version 0.19.1. This might lead to breaking code or invalid results. Use at your own risk.\n",
      "  UserWarning)\n"
     ]
    }
   ],
   "source": [
    "model = load_data(\"viscosity_nn_model.sav\", pickleFile=True)"
   ]
  },
  {
   "cell_type": "code",
   "execution_count": 23,
   "metadata": {},
   "outputs": [],
   "source": [
    "from os.path import join\n",
    "def load_data(data_file_name, pickleFile=False):\n",
    "    \"\"\"Loads data from module_path/data/data_file_name.\n",
    "    Parameters\n",
    "    ----------\n",
    "    data_file_name : String. Name of csv file to be loaded from\n",
    "    module_path/data/data_file_name. For example 'salt_info.csv'.\n",
    "    Returns\n",
    "    -------\n",
    "    data : Pandas DataFrame\n",
    "        A data frame. For example with each row representing one \n",
    "        salt and each column representing the features of a given \n",
    "        salt.\n",
    "    \"\"\"\n",
    "    module_path = \"/home/wesley/Dropbox/Python/py3/gains/gains\"\n",
    "    if pickleFile:\n",
    "        with open(join(module_path, 'data', data_file_name), 'rb') as pickle_file:\n",
    "            data = pickle.load(pickle_file, encoding='latin1')\n",
    "    else:\n",
    "        with open(join(module_path, 'data', data_file_name)) as csv_file:\n",
    "            data = pd.read_csv(csv_file)\n",
    "    return data"
   ]
  },
  {
   "cell_type": "code",
   "execution_count": 3,
   "metadata": {
    "collapsed": true
   },
   "outputs": [],
   "source": [
    "model = pickle.load()\n",
    "def get_fitness(genes, target):\n",
    "    ms = [Chem.MolFromSmiles(target), Chem.MolFromSmiles(genes)]\n",
    "    fps = [FingerprintMols.FingerprintMol(x) for x in ms]\n",
    "    return DataStructs.FingerprintSimilarity(fps[0],fps[1])"
   ]
  }
 ],
 "metadata": {
  "kernelspec": {
   "display_name": "Python 3",
   "language": "python",
   "name": "python3"
  },
  "language_info": {
   "codemirror_mode": {
    "name": "ipython",
    "version": 3
   },
   "file_extension": ".py",
   "mimetype": "text/x-python",
   "name": "python",
   "nbconvert_exporter": "python",
   "pygments_lexer": "ipython3",
   "version": "3.6.1"
  }
 },
 "nbformat": 4,
 "nbformat_minor": 1
}
