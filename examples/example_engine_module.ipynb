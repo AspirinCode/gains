{
 "cells": [
  {
   "cell_type": "markdown",
   "metadata": {},
   "source": [
    "# Getting started\n",
    "\n",
    "Thanks for checking out GAINS! \n",
    "\n",
    "We'll walk through the simplest usage cases for the engine module.\n",
    "\n",
    "## The engine module\n",
    "\n",
    "GAINS operates using the simplified molecular-input line-entry system ([SMILES](https://en.wikipedia.org/wiki/Simplified_molecular-input_line-entry_system)). We use this to create the molecular structures ([Chromosome](https://wesleybeckner.github.io/gains/gains.html#gains.engine.Chromosome) objects) to be manipulated by the engine. \n",
    "\n",
    "Let's explore the simple case of creating butane from propanol:"
   ]
  },
  {
   "cell_type": "code",
   "execution_count": 1,
   "metadata": {},
   "outputs": [],
   "source": [
    "import gains as genetic\n",
    "import numpy as np\n",
    "\n",
    "target = \"CCCC\" #butane smiles\n",
    "parent_candidates = np.array([\"CCCO\"]) #propanol smiles, numpy array"
   ]
  },
  {
   "cell_type": "markdown",
   "metadata": {},
   "source": [
    "In order to begin manipulating the parent_candidate we have to, at a minimum, define three additional functions to interact with the engine: a fitness function, and two display functions; one for displaying accepted mutations one for displaying the final result. \n",
    "\n",
    "The fitness function is the most important user-defined function to interact with the engine, so we'll start there. It allows us to plug any desired objective into the engine; whether it be a quantitative structure property relationship (QSPR), an acitivity/toxicity score, or, as in this case, a simple similarity mapping between a target and a starting structure:"
   ]
  },
  {
   "cell_type": "code",
   "execution_count": 2,
   "metadata": {
    "collapsed": true
   },
   "outputs": [],
   "source": [
    "from rdkit import DataStructs\n",
    "from rdkit.Chem.Fingerprints import FingerprintMols\n",
    "from rdkit.Chem import AllChem as Chem\n",
    "\n",
    "def get_fitness(genes, target):\n",
    "    ms = [Chem.MolFromSmiles(target), Chem.MolFromSmiles(genes)]\n",
    "    fps = [FingerprintMols.FingerprintMol(x) for x in ms]\n",
    "    return DataStructs.FingerprintSimilarity(fps[0], fps[1]), None"
   ]
  },
  {
   "cell_type": "markdown",
   "metadata": {},
   "source": [
    "You can read more of RDKit's documentation on molecular fingerprint similarity [here](http://www.rdkit.org/docs/GettingStartedInPython.html#fingerprinting-and-molecular-similarity). Briefly, the fingerprinting algorithm identifies and hashes topological paths in the molecule before folding them down to a set density of bits. We exploit this in the engine to give us a fitness score for a candidate we are attempting to mutate towards the target structure.\n",
    "\n",
    "The engine doesn't need to know anything about the target since the fitness function is defined on the user end. To avoid passing the target to and from the engine (and taking up cpu time) we define a helper function:"
   ]
  },
  {
   "cell_type": "code",
   "execution_count": 3,
   "metadata": {
    "collapsed": true
   },
   "outputs": [],
   "source": [
    "def fnGetFitness(genes):\n",
    "    return get_fitness(genes, target)"
   ]
  },
  {
   "cell_type": "markdown",
   "metadata": {},
   "source": [
    "This brings us to the last two functions we need to define, the display functions. There is a lot of freedom here to choose what we would like to print to the screen. At a minimum, the engine expects to pass the candidate (Chromosome object) and the current mutation to the display function; and the candidate's genes (SMILES string), target (int, float, or array), count of the mutation attempts (int), and two additional variables we'll get into later (the similarity score and corresponding molecular relative to the molecular solution) to the result display function.\n",
    "\n",
    "In the following I've chosen to print the mutation performed, the fitness score, and the SMILES of the candidate in the display function and the number of atoms and number of mutations in the result display function:"
   ]
  },
  {
   "cell_type": "code",
   "execution_count": 5,
   "metadata": {},
   "outputs": [],
   "source": [
    "def display(candidate, mutation):\n",
    "    print(\"{:>20}{:>15}{:>15}\".format(mutation, \"{:3.4f}\".\n",
    "                                  format(candidate.Fitness),\n",
    "                                  candidate.Genes))\n",
    "\n",
    "    \n",
    "def result_display(genes, target, mutation_attempts, sim_score,\n",
    "             molecular_relative):\n",
    "    mol = Chem.MolFromSmiles(genes)\n",
    "    print(\"{:>20}{:>15}\".format(\"number of atoms:\", mol.GetNumAtoms()))\n",
    "    print(\"{:>20}{:>15}\".format(\"mutation attempts:\", mutation_attempts))"
   ]
  },
  {
   "cell_type": "markdown",
   "metadata": {},
   "source": [
    "We have just two more items to pass to the engine: the geneSet object and the optimal fitness we are searching for.\n",
    "\n",
    "The geneSet object contains the atoms and fragments the engine is allowed to use in any mutation attempt. For now these are hard coded into the engine and may be viewed [here](https://wesleybeckner.github.io/gains/gains.html#gains.engine.GeneSet).\n",
    "\n",
    "The optimal fitness in our case is 1 (perfect mapping between candidate and target). But to be thorough we set this by passing the fitness score between the target and itself:"
   ]
  },
  {
   "cell_type": "code",
   "execution_count": 7,
   "metadata": {},
   "outputs": [],
   "source": [
    "geneSet = genetic.generate_geneset()\n",
    "optimalFitness, prediction = get_fitness(target, target)"
   ]
  },
  {
   "cell_type": "markdown",
   "metadata": {},
   "source": [
    "We're now ready to put this all together:"
   ]
  },
  {
   "cell_type": "code",
   "execution_count": 8,
   "metadata": {},
   "outputs": [
    {
     "name": "stdout",
     "output_type": "stream",
     "text": [
      "  starting structure         0.3333           CCCO\n",
      " add_custom_fragment         0.3529         CCCCCO\n",
      "         remove_atom         0.4615          CCCCO\n",
      "         remove_atom         1.0000           CCCC\n",
      "    number of atoms:              4\n",
      "  mutation attempts:             34\n"
     ]
    }
   ],
   "source": [
    "best = genetic.get_best(fnGetFitness, optimalFitness, geneSet,\n",
    "                        display, result_display, target,\n",
    "                        parent_candidates)"
   ]
  },
  {
   "cell_type": "markdown",
   "metadata": {},
   "source": [
    "In this simple example it took 34 mutation attempt to get from \"CCCO\" (propanol) to \"CCCC\" (butane); only 3 of which were accepted because they resulted in a higher fitness score than the candidate being mutated.\n",
    "\n",
    "In the next section we'll go over the different mutations available to the engine.\n",
    "\n",
    "## The mutate function\n",
    "\n",
    "the GAINS engine can perform the following mutations to a molecular candidate:\n",
    "\n",
    "* remove_atom\n",
    "* add_atom\n",
    "* replace_atom\n",
    "* add_custom_fragment\n",
    "* remove_custom_fragment\n",
    "* add_rdkit_fragment\n",
    "* remove_rdkit_fragment\n",
    "\n",
    "To understand these sub functions, it is illustrative to look at the [function](https://wesleybeckner.github.io/gains/_modules/gains/engine.html#generate_geneset) that generates the geneSet:\n",
    "\n",
    "```\n",
    "    atoms = [6, 7, 8, 9, 5, 15, 16, 17]\n",
    "    fName = os.path.join(RDConfig.RDDataDir, 'FunctionalGroups.txt')\n",
    "    rdkitFrags = FragmentCatalog.FragCatParams(1, 5, fName)\n",
    "    customFrags = FragmentCatalog.FragCatalog(rdkitFrags)\n",
    "    fcgen = FragmentCatalog.FragCatGenerator()\n",
    "    m = Chem.MolFromSmiles('CCCC')\n",
    "    fcgen.AddFragsFromMol(m, customFrags)\n",
    "    return GeneSet(atoms, rdkitFrags, customFrags)\n",
    "```"
   ]
  },
  {
   "cell_type": "markdown",
   "metadata": {},
   "source": [
    "`atoms` is set according to atomic number: carbon, nitrogen, oxygen, fluorine, boron, phosphorus, sulfur, and chlorine. \n",
    "\n",
    "`rdkitFrags` is best understood by showing the output from rdkit itself:"
   ]
  },
  {
   "cell_type": "code",
   "execution_count": 1,
   "metadata": {},
   "outputs": [
    {
     "data": {
      "text/plain": [
       "39"
      ]
     },
     "execution_count": 1,
     "metadata": {},
     "output_type": "execute_result"
    }
   ],
   "source": [
    "from rdkit import RDConfig\n",
    "from rdkit.Chem import FragmentCatalog\n",
    "import os\n",
    "fName = os.path.join(RDConfig.RDDataDir, 'FunctionalGroups.txt')\n",
    "rdkitFrags = FragmentCatalog.FragCatParams(1, 5, fName)\n",
    "rdkitFrags.GetNumFuncGroups()"
   ]
  },
  {
   "cell_type": "markdown",
   "metadata": {},
   "source": [
    "The engine is utilizing 39 built-in fragments from RDKit. We can view these fragments individually:"
   ]
  },
  {
   "cell_type": "code",
   "execution_count": 2,
   "metadata": {},
   "outputs": [
    {
     "data": {
      "image/png": "[encoded data removed]",
      "text/plain": [
       "<matplotlib.figure.Figure at 0x103cfee10>"
      ]
     },
     "execution_count": 2,
     "metadata": {},
     "output_type": "execute_result"
    }
   ],
   "source": [
    "from rdkit.Chem import Draw\n",
    "Draw.MolToMPL(rdkitFrags.GetFuncGroup(38))"
   ]
  },
  {
   "cell_type": "markdown",
   "metadata": {},
   "source": [
    "and view all of their smiles strings:"
   ]
  },
  {
   "cell_type": "code",
   "execution_count": 4,
   "metadata": {},
   "outputs": [
    {
     "name": "stdout",
     "output_type": "stream",
     "text": [
      "[*]NC(C)=O\n",
      "[*]C(=O)O\n",
      "[*]C(=O)OC\n",
      "[*]C(C)=O\n",
      "[*]C(N)=O\n",
      "[*]C(C)=O\n",
      "[*]N=C=O\n",
      "[*]N=C=S\n",
      "[*]N(=O)O\n",
      "[*]N=O\n",
      "[*]=NO\n",
      "[*]=NC\n",
      "[*]N=C\n",
      "[*]N=NC\n",
      "[*]N=N\n",
      "[*]N#N\n",
      "[*]C#N\n",
      "[*]S(N)(=O)=O\n",
      "[*]NS(C)(=O)=O\n",
      "[*]S(=O)(=O)O\n",
      "[*]S(=O)(=O)OC\n",
      "[*]S(C)(=O)=O\n",
      "[*]S(=O)(=O)Cl\n",
      "[*]S(C)=O\n",
      "[*]SC\n",
      "[*]S\n",
      "[*]=S\n",
      "[*]F\n",
      "[*]C(C)(C)C\n",
      "[*]C(F)(F)F\n",
      "[*]C#C\n",
      "[*]C1CC1\n",
      "[*]OCC\n",
      "[*]OC\n",
      "[*]O\n",
      "[*]=O\n",
      "[*]N\n",
      "[*]=N\n",
      "[*]#N\n"
     ]
    }
   ],
   "source": [
    "from rdkit import Chem\n",
    "for i in range(0,rdkitFrags.GetNumFuncGroups()):\n",
    "    print(Chem.MolToSmiles(rdkitFrags.GetFuncGroup(i)))"
   ]
  },
  {
   "cell_type": "markdown",
   "metadata": {},
   "source": [
    "You can learn more about RDKit fragments [here](http://www.rdkit.org/docs/GettingStartedInPython.html#molecular-fragments). The customFrags will change in future versions of GAINS. For now they are simply substructures of butane:"
   ]
  },
  {
   "cell_type": "code",
   "execution_count": 8,
   "metadata": {},
   "outputs": [
    {
     "name": "stdout",
     "output_type": "stream",
     "text": [
      "CC\n",
      "CCC\n",
      "CCCC\n"
     ]
    }
   ],
   "source": [
    "fName = os.path.join(RDConfig.RDDataDir, 'FunctionalGroups.txt')\n",
    "rdkitFrags = FragmentCatalog.FragCatParams(1, 5, fName)\n",
    "customFrags = FragmentCatalog.FragCatalog(rdkitFrags)\n",
    "fcgen = FragmentCatalog.FragCatGenerator()\n",
    "m = Chem.MolFromSmiles('CCCC')\n",
    "fcgen.AddFragsFromMol(m, customFrags)\n",
    "for i in range(3):\n",
    "    print(customFrags.GetEntryDescription(i))"
   ]
  },
  {
   "cell_type": "markdown",
   "metadata": {},
   "source": [
    "We've covered the important information you need to know to get up and running with GAINS. In the next chapter of the series we'll go over more complex fitness and display functions to take full advantage of the package. For convenience here is the full code of minimal functions we've described for interacting with the engine module:"
   ]
  },
  {
   "cell_type": "code",
   "execution_count": 9,
   "metadata": {},
   "outputs": [
    {
     "name": "stdout",
     "output_type": "stream",
     "text": [
      "  starting structure         0.3333           CCCO\n",
      "         remove_atom         0.6667            CCC\n",
      " add_custom_fragment         0.7500          CCCCC\n",
      "         remove_atom         1.0000           CCCC\n",
      "    number of atoms:              4\n",
      "  mutation attempts:             41\n"
     ]
    }
   ],
   "source": [
    "import gains as genetic\n",
    "import numpy as np\n",
    "from rdkit import DataStructs\n",
    "from rdkit.Chem.Fingerprints import FingerprintMols\n",
    "from rdkit.Chem import AllChem as Chem\n",
    "\n",
    "target = \"CCCC\" #butane smiles\n",
    "parent_candidates = np.array([\"CCCO\"]) #propanol smiles, numpy array\n",
    "\n",
    "def get_fitness(genes, target):\n",
    "    ms = [Chem.MolFromSmiles(target), Chem.MolFromSmiles(genes)]\n",
    "    fps = [FingerprintMols.FingerprintMol(x) for x in ms]\n",
    "    return DataStructs.FingerprintSimilarity(fps[0], fps[1]), None\n",
    "\n",
    "def fnGetFitness(genes):\n",
    "    return get_fitness(genes, target)\n",
    "\n",
    "def display(candidate, mutation):\n",
    "    print(\"{:>20}{:>15}{:>15}\".format(mutation, \"{:3.4f}\".\n",
    "                                  format(candidate.Fitness),\n",
    "                                  candidate.Genes))\n",
    "\n",
    "def result_display(genes, target, mutation_attempts, sim_score,\n",
    "             molecular_relative):\n",
    "    mol = Chem.MolFromSmiles(genes)\n",
    "    print(\"{:>20}{:>15}\".format(\"number of atoms:\", mol.GetNumAtoms()))\n",
    "    print(\"{:>20}{:>15}\".format(\"mutation attempts:\", mutation_attempts))\n",
    "    \n",
    "geneSet = genetic.generate_geneset()\n",
    "optimalFitness, prediction = get_fitness(target, target)\n",
    "best = genetic.get_best(fnGetFitness, optimalFitness, geneSet,\n",
    "                        display, result_display, target,\n",
    "                        parent_candidates)"
   ]
  }
 ],
 "metadata": {
  "kernelspec": {
   "display_name": "Python 3",
   "language": "python",
   "name": "python3"
  },
  "language_info": {
   "codemirror_mode": {
    "name": "ipython",
    "version": 3
   },
   "file_extension": ".py",
   "mimetype": "text/x-python",
   "name": "python",
   "nbconvert_exporter": "python",
   "pygments_lexer": "ipython3",
   "version": "3.6.1"
  }
 },
 "nbformat": 4,
 "nbformat_minor": 1
}
